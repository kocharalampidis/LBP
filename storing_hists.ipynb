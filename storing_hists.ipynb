{
 "cells": [
  {
   "cell_type": "code",
   "execution_count": 1,
   "metadata": {},
   "outputs": [
    {
     "data": {
      "text/html": [
       "<style>.container { width:80% !important; }</style>"
      ],
      "text/plain": [
       "<IPython.core.display.HTML object>"
      ]
     },
     "metadata": {},
     "output_type": "display_data"
    }
   ],
   "source": [
    "from IPython.core.display import display, HTML\n",
    "display(HTML(\"<style>.container { width:80% !important; }</style>\"))"
   ]
  },
  {
   "cell_type": "code",
   "execution_count": 2,
   "metadata": {},
   "outputs": [],
   "source": [
    "# import all libs\n",
    "from skimage import feature\n",
    "import cv2 as cv\n",
    "import numpy as np\n",
    "from matplotlib import pyplot as plt\n",
    "import glob\n",
    "from numpy import save\n",
    "from numpy import loadtxt\n"
   ]
  },
  {
   "cell_type": "code",
   "execution_count": 3,
   "metadata": {},
   "outputs": [],
   "source": [
    "# stores images from the respective dataset in lists\n",
    "hazelnuts_train = [cv.imread(file) \n",
    "                for file in glob.glob(\"../Dataset/Train_Images/hazelnuts_train/*.png\")]   "
   ]
  },
  {
   "cell_type": "code",
   "execution_count": 4,
   "metadata": {},
   "outputs": [],
   "source": [
    "beans_train = [cv.imread(file) \n",
    "                for file in glob.glob(\"../Dataset/Train_Images/beans_train/*.png\")]"
   ]
  },
  {
   "cell_type": "code",
   "execution_count": 5,
   "metadata": {},
   "outputs": [],
   "source": [
    "blackeyed_train = [cv.imread(file) \n",
    "                for file in glob.glob(\"../Dataset/Train_Images/blackeyed_train/*.png\")]"
   ]
  },
  {
   "cell_type": "code",
   "execution_count": 6,
   "metadata": {},
   "outputs": [],
   "source": [
    "cashews_train = [cv.imread(file) \n",
    "                for file in glob.glob(\"../Dataset/Train_Images/cashews_train/*.png\")]"
   ]
  },
  {
   "cell_type": "code",
   "execution_count": 7,
   "metadata": {},
   "outputs": [],
   "source": [
    "chickpeas_train = [cv.imread(file) \n",
    "                for file in glob.glob(\"../Dataset/Train_Images/chickpeas_train/*.png\")]"
   ]
  },
  {
   "cell_type": "code",
   "execution_count": 8,
   "metadata": {},
   "outputs": [
    {
     "name": "stdout",
     "output_type": "stream",
     "text": [
      "Hazelnuts length: 82 \n",
      " Beans length: 89 \n",
      " Blackeyed length: 47 \n",
      " Cashews length: 81 \n",
      " Chickpeas length: 65\n"
     ]
    }
   ],
   "source": [
    "print(\n",
    "     'Hazelnuts length:', len(hazelnuts_train), '\\n',\n",
    "    'Beans length:', len(beans_train), '\\n',\n",
    "    'Blackeyed length:', len(blackeyed_train), '\\n',\n",
    "    'Cashews length:', len(cashews_train), '\\n',\n",
    "    'Chickpeas length:', len(chickpeas_train)\n",
    "    )\n",
    "    "
   ]
  },
  {
   "cell_type": "code",
   "execution_count": 9,
   "metadata": {},
   "outputs": [],
   "source": [
    "# hazelnuts\n",
    "# beans\n",
    "# blackeyed\n",
    "# cashews\n",
    "# chickpeas"
   ]
  },
  {
   "cell_type": "code",
   "execution_count": 10,
   "metadata": {},
   "outputs": [],
   "source": [
    "# the previously stored images converted to grayscale\n",
    "# and stores them to lists\n",
    "gray_hazelnuts = []\n",
    "for i in range(0, len(hazelnuts_train)):\n",
    "    gray_hazelnuts.append(cv.cvtColor(hazelnuts_train[i], cv.COLOR_BGR2GRAY))\n",
    "    "
   ]
  },
  {
   "cell_type": "code",
   "execution_count": 11,
   "metadata": {},
   "outputs": [
    {
     "data": {
      "text/plain": [
       "89"
      ]
     },
     "execution_count": 11,
     "metadata": {},
     "output_type": "execute_result"
    }
   ],
   "source": [
    "gray_beans = []\n",
    "for i in range(0, len(beans_train)):\n",
    "    gray_beans.append(cv.cvtColor(beans_train[i], cv.COLOR_BGR2GRAY))\n",
    "\n",
    "len(gray_beans)"
   ]
  },
  {
   "cell_type": "code",
   "execution_count": 12,
   "metadata": {},
   "outputs": [
    {
     "data": {
      "text/plain": [
       "47"
      ]
     },
     "execution_count": 12,
     "metadata": {},
     "output_type": "execute_result"
    }
   ],
   "source": [
    "gray_blackeyed = []\n",
    "for i in range(0, len(blackeyed_train)):\n",
    "    gray_blackeyed.append(cv.cvtColor(blackeyed_train[i], cv.COLOR_BGR2GRAY))\n",
    "\n",
    "len(gray_blackeyed)"
   ]
  },
  {
   "cell_type": "code",
   "execution_count": 13,
   "metadata": {},
   "outputs": [
    {
     "data": {
      "text/plain": [
       "81"
      ]
     },
     "execution_count": 13,
     "metadata": {},
     "output_type": "execute_result"
    }
   ],
   "source": [
    "gray_cashews = []\n",
    "for i in range(0, len(cashews_train)):\n",
    "    gray_cashews.append(cv.cvtColor(cashews_train[i], cv.COLOR_BGR2GRAY))\n",
    "    \n",
    "len(gray_cashews)"
   ]
  },
  {
   "cell_type": "code",
   "execution_count": 14,
   "metadata": {},
   "outputs": [
    {
     "data": {
      "text/plain": [
       "65"
      ]
     },
     "execution_count": 14,
     "metadata": {},
     "output_type": "execute_result"
    }
   ],
   "source": [
    "gray_chickpeas = []\n",
    "for i in range(0, len(chickpeas_train)):\n",
    "    gray_chickpeas.append(cv.cvtColor(chickpeas_train[i], cv.COLOR_BGR2GRAY))\n",
    "    \n",
    "len(gray_chickpeas)"
   ]
  },
  {
   "cell_type": "code",
   "execution_count": 15,
   "metadata": {},
   "outputs": [
    {
     "data": {
      "image/png": "[encoded data removed]",
      "text/plain": [
       "<Figure size 432x288 with 1 Axes>"
      ]
     },
     "metadata": {
      "needs_background": "light"
     },
     "output_type": "display_data"
    },
    {
     "data": {
      "image/png": "[encoded data removed]",
      "text/plain": [
       "<Figure size 432x288 with 1 Axes>"
      ]
     },
     "metadata": {
      "needs_background": "light"
     },
     "output_type": "display_data"
    },
    {
     "data": {
      "image/png": "[encoded data removed]",
      "text/plain": [
       "<Figure size 432x288 with 1 Axes>"
      ]
     },
     "metadata": {
      "needs_background": "light"
     },
     "output_type": "display_data"
    },
    {
     "data": {
      "image/png": "[encoded data removed]",
      "text/plain": [
       "<Figure size 432x288 with 1 Axes>"
      ]
     },
     "metadata": {
      "needs_background": "light"
     },
     "output_type": "display_data"
    },
    {
     "data": {
      "image/png": "[encoded data removed]",
      "text/plain": [
       "<Figure size 432x288 with 1 Axes>"
      ]
     },
     "metadata": {
      "needs_background": "light"
     },
     "output_type": "display_data"
    }
   ],
   "source": [
    "plt.subplot(211), plt.imshow(gray_chickpeas[1], cmap='gray'), plt.title('img')\n",
    "# plt.subplot(223), plt.imshow(gray_hazelnuts[4], cmap='gray'), plt.title('images')\n",
    "# plt.subplot(223), plt.imshow(img1, cmap='gray'), plt.title('bean')\n",
    "\n",
    "\n",
    "plt.show()\n",
    "\n",
    "plt.subplot(211), plt.imshow(gray_cashews[1], cmap='gray'), plt.title('img')\n",
    "# plt.subplot(223), plt.imshow(gray_hazelnuts[4], cmap='gray'), plt.title('images')\n",
    "# plt.subplot(223), plt.imshow(img1, cmap='gray'), plt.title('bean')\n",
    "\n",
    "\n",
    "plt.show()\n",
    "\n",
    "plt.subplot(211), plt.imshow(gray_beans[1], cmap='gray'), plt.title('img')\n",
    "# plt.subplot(223), plt.imshow(gray_hazelnuts[4], cmap='gray'), plt.title('images')\n",
    "# plt.subplot(223), plt.imshow(img1, cmap='gray'), plt.title('bean')\n",
    "\n",
    "\n",
    "plt.show()\n",
    "\n",
    "plt.subplot(211), plt.imshow(gray_hazelnuts[1], cmap='gray'), plt.title('img')\n",
    "# plt.subplot(223), plt.imshow(gray_hazelnuts[4], cmap='gray'), plt.title('images')\n",
    "# plt.subplot(223), plt.imshow(img1, cmap='gray'), plt.title('bean')\n",
    "\n",
    "\n",
    "plt.show()\n",
    "\n",
    "plt.subplot(211), plt.imshow(gray_blackeyed[1], cmap='gray'), plt.title('img')\n",
    "# plt.subplot(223), plt.imshow(gray_hazelnuts[4], cmap='gray'), plt.title('images')\n",
    "# plt.subplot(223), plt.imshow(img1, cmap='gray'), plt.title('bean')\n",
    "\n",
    "\n",
    "plt.show()"
   ]
  },
  {
   "cell_type": "code",
   "execution_count": null,
   "metadata": {},
   "outputs": [],
   "source": []
  },
  {
   "cell_type": "code",
   "execution_count": null,
   "metadata": {},
   "outputs": [],
   "source": []
  },
  {
   "cell_type": "code",
   "execution_count": null,
   "metadata": {},
   "outputs": [],
   "source": []
  },
  {
   "cell_type": "code",
   "execution_count": null,
   "metadata": {},
   "outputs": [],
   "source": []
  },
  {
   "cell_type": "code",
   "execution_count": null,
   "metadata": {},
   "outputs": [],
   "source": []
  },
  {
   "cell_type": "code",
   "execution_count": 16,
   "metadata": {},
   "outputs": [],
   "source": [
    "# set the config for lbp\n",
    "# number of neighbor points and radius of kernel\n",
    "numPoints = 8\n",
    "radius = 2\n"
   ]
  },
  {
   "cell_type": "code",
   "execution_count": null,
   "metadata": {},
   "outputs": [],
   "source": []
  },
  {
   "cell_type": "code",
   "execution_count": 17,
   "metadata": {},
   "outputs": [],
   "source": [
    "# hazelnuts\n",
    "# beans\n",
    "# blackeyed\n",
    "# cashews\n",
    "# chickpeas"
   ]
  },
  {
   "cell_type": "code",
   "execution_count": 18,
   "metadata": {
    "scrolled": true
   },
   "outputs": [
    {
     "data": {
      "text/plain": [
       "82"
      ]
     },
     "execution_count": 18,
     "metadata": {},
     "output_type": "execute_result"
    }
   ],
   "source": [
    "# extracts and stores lbps as images from gray_dir \n",
    "# in order to create hists \n",
    "lbp_hazelnuts = []\n",
    "\n",
    "for i in range(0, len(gray_hazelnuts)):\n",
    "    lbp_hazelnuts.append(feature.local_binary_pattern(gray_hazelnuts[i], \n",
    "                                                numPoints,radius, method=\"default\"))\n",
    "len(lbp_hazelnuts)"
   ]
  },
  {
   "cell_type": "code",
   "execution_count": 19,
   "metadata": {},
   "outputs": [
    {
     "data": {
      "text/plain": [
       "89"
      ]
     },
     "execution_count": 19,
     "metadata": {},
     "output_type": "execute_result"
    }
   ],
   "source": [
    "lbp_beans = []\n",
    "\n",
    "for i in range(0, len(gray_beans)):\n",
    "    lbp_beans.append(feature.local_binary_pattern(gray_beans[i], \n",
    "                                                numPoints,radius, method=\"default\"))\n",
    "len(lbp_beans)"
   ]
  },
  {
   "cell_type": "code",
   "execution_count": 20,
   "metadata": {},
   "outputs": [
    {
     "data": {
      "text/plain": [
       "47"
      ]
     },
     "execution_count": 20,
     "metadata": {},
     "output_type": "execute_result"
    }
   ],
   "source": [
    "lbp_blackeyed = []\n",
    "\n",
    "for i in range(0, len(gray_blackeyed)):\n",
    "    lbp_blackeyed.append(feature.local_binary_pattern(gray_blackeyed[i], \n",
    "                                                numPoints,radius, method=\"default\"))\n",
    "len(lbp_blackeyed)"
   ]
  },
  {
   "cell_type": "code",
   "execution_count": 21,
   "metadata": {},
   "outputs": [
    {
     "data": {
      "text/plain": [
       "81"
      ]
     },
     "execution_count": 21,
     "metadata": {},
     "output_type": "execute_result"
    }
   ],
   "source": [
    "lbp_cashews = []\n",
    "\n",
    "for i in range(0, len(gray_cashews)):\n",
    "    lbp_cashews.append(feature.local_binary_pattern(gray_cashews[i], \n",
    "                                                numPoints,radius, method=\"default\"))\n",
    "len(lbp_cashews)"
   ]
  },
  {
   "cell_type": "code",
   "execution_count": 22,
   "metadata": {},
   "outputs": [
    {
     "data": {
      "text/plain": [
       "65"
      ]
     },
     "execution_count": 22,
     "metadata": {},
     "output_type": "execute_result"
    }
   ],
   "source": [
    "lbp_chickpeas = []\n",
    "\n",
    "for i in range(0, len(gray_chickpeas)):\n",
    "    lbp_chickpeas.append(feature.local_binary_pattern(gray_chickpeas[i], \n",
    "                                                numPoints,radius, method=\"default\"))\n",
    "len(lbp_chickpeas)"
   ]
  },
  {
   "cell_type": "code",
   "execution_count": null,
   "metadata": {},
   "outputs": [],
   "source": []
  },
  {
   "cell_type": "code",
   "execution_count": 23,
   "metadata": {},
   "outputs": [
    {
     "data": {
      "image/png": "[encoded data removed]",
      "text/plain": [
       "<Figure size 432x288 with 1 Axes>"
      ]
     },
     "metadata": {
      "needs_background": "light"
     },
     "output_type": "display_data"
    },
    {
     "data": {
      "image/png": "[encoded data removed]",
      "text/plain": [
       "<Figure size 432x288 with 1 Axes>"
      ]
     },
     "metadata": {
      "needs_background": "light"
     },
     "output_type": "display_data"
    },
    {
     "data": {
      "image/png": "[encoded data removed]",
      "text/plain": [
       "<Figure size 432x288 with 1 Axes>"
      ]
     },
     "metadata": {
      "needs_background": "light"
     },
     "output_type": "display_data"
    },
    {
     "data": {
      "image/png": "[encoded data removed]",
      "text/plain": [
       "<Figure size 432x288 with 1 Axes>"
      ]
     },
     "metadata": {
      "needs_background": "light"
     },
     "output_type": "display_data"
    },
    {
     "data": {
      "image/png": "[encoded data removed]",
      "text/plain": [
       "<Figure size 432x288 with 1 Axes>"
      ]
     },
     "metadata": {
      "needs_background": "light"
     },
     "output_type": "display_data"
    }
   ],
   "source": [
    "plt.subplot(211), plt.imshow(lbp_chickpeas[1], cmap='gray'), plt.title('chcikpea')\n",
    "# plt.subplot(223), plt.imshow(gray_hazelnuts[4], cmap='gray'), plt.title('images')\n",
    "# plt.subplot(223), plt.imshow(img1, cmap='gray'), plt.title('bean')\n",
    "\n",
    "\n",
    "plt.show()\n",
    "\n",
    "plt.subplot(211), plt.imshow(lbp_cashews[5], cmap='gray'), plt.title('cashew')\n",
    "# plt.subplot(223), plt.imshow(gray_hazelnuts[4], cmap='gray'), plt.title('images')\n",
    "# plt.subplot(223), plt.imshow(img1, cmap='gray'), plt.title('bean')\n",
    "\n",
    "\n",
    "plt.show()\n",
    "\n",
    "plt.subplot(211), plt.imshow(lbp_beans[1], cmap='gray'), plt.title('bean')\n",
    "# plt.subplot(223), plt.imshow(gray_hazelnuts[4], cmap='gray'), plt.title('images')\n",
    "# plt.subplot(223), plt.imshow(img1, cmap='gray'), plt.title('bean')\n",
    "\n",
    "\n",
    "plt.show()\n",
    "\n",
    "plt.subplot(211), plt.imshow(lbp_hazelnuts[1], cmap='gray'), plt.title('hazelnut')\n",
    "# plt.subplot(223), plt.imshow(gray_hazelnuts[4], cmap='gray'), plt.title('images')\n",
    "# plt.subplot(223), plt.imshow(img1, cmap='gray'), plt.title('bean')\n",
    "\n",
    "\n",
    "plt.show()\n",
    "\n",
    "plt.subplot(211), plt.imshow(lbp_blackeyed[1], cmap='gray'), plt.title('blackeyed')\n",
    "# plt.subplot(223), plt.imshow(gray_hazelnuts[4], cmap='gray'), plt.title('images')\n",
    "# plt.subplot(223), plt.imshow(img1, cmap='gray'), plt.title('bean')\n",
    "\n",
    "\n",
    "plt.show()"
   ]
  },
  {
   "cell_type": "code",
   "execution_count": null,
   "metadata": {},
   "outputs": [],
   "source": []
  },
  {
   "cell_type": "code",
   "execution_count": null,
   "metadata": {},
   "outputs": [],
   "source": []
  },
  {
   "cell_type": "code",
   "execution_count": null,
   "metadata": {},
   "outputs": [],
   "source": []
  },
  {
   "cell_type": "code",
   "execution_count": 24,
   "metadata": {},
   "outputs": [],
   "source": [
    "# for i in range(0, len(lbp_beans)):\n",
    "#     hist, _ = np.histogram(lbp_beans[i].ravel(), bins=np.arange(0, numPoints + 3), \n",
    "#                                       range=(0, numPoints + 2), density=True)\n",
    "#     print(hist)"
   ]
  },
  {
   "cell_type": "code",
   "execution_count": 25,
   "metadata": {},
   "outputs": [],
   "source": [
    "# hist"
   ]
  },
  {
   "cell_type": "code",
   "execution_count": 26,
   "metadata": {
    "scrolled": true
   },
   "outputs": [],
   "source": [
    "# from lbps exctract histograms to create the new dataset needed\n",
    "# stores the hists to a folder in the dataset directory\n",
    "for i in range(0, len(lbp_hazelnuts)):\n",
    "            hist, _ = np.histogram(lbp_hazelnuts[i].ravel(), bins=np.arange(256), \n",
    "                                  range=255, density=True)\n",
    "            np.savetxt('../Dataset/Train_Hists/hazelnuts_hist/hazelnuts_train'+str(i)+'.csv', hist, delimiter=',')\n",
    "    "
   ]
  },
  {
   "cell_type": "code",
   "execution_count": 27,
   "metadata": {},
   "outputs": [],
   "source": [
    "for i in range(0, len(lbp_beans)):\n",
    "            hist, _ = np.histogram(lbp_beans[i].ravel(), bins=np.arange(256), \n",
    "                                  range=255, density=True)\n",
    "            np.savetxt('../Dataset/Train_Hists/beans_hist/beans_train'+str(i)+'.csv', hist, delimiter=',')\n",
    "    "
   ]
  },
  {
   "cell_type": "code",
   "execution_count": 28,
   "metadata": {},
   "outputs": [],
   "source": [
    "for i in range(0, len(lbp_blackeyed)):\n",
    "            hist, _ = np.histogram(lbp_blackeyed[i].ravel(), bins=np.arange(256), \n",
    "                                  range=255, density=True)\n",
    "            np.savetxt('../Dataset/Train_Hists/blackeyed_hist/blackeyed_train'+str(i)+'.csv', hist, delimiter=',')\n",
    "    "
   ]
  },
  {
   "cell_type": "code",
   "execution_count": 29,
   "metadata": {},
   "outputs": [],
   "source": [
    "for i in range(0, len(lbp_cashews)):\n",
    "            hist, _ = np.histogram(lbp_cashews[i].ravel(),  bins=np.arange(256), \n",
    "                                  range=255, density=True)\n",
    "            np.savetxt('../Dataset/Train_Hists/cashews_hist/cashews_train'+str(i)+'.csv', hist, delimiter=',')\n",
    "    "
   ]
  },
  {
   "cell_type": "code",
   "execution_count": 30,
   "metadata": {},
   "outputs": [],
   "source": [
    "for i in range(0, len(lbp_chickpeas)):\n",
    "            hist, _ = np.histogram(lbp_chickpeas[i].ravel(),  bins=np.arange(256), \n",
    "                                  range=255, density=True)\n",
    "            np.savetxt('../Dataset/Train_Hists/chickpeas_hist/chickpeas_train'+str(i)+'.csv', hist, delimiter=',')\n",
    "    "
   ]
  },
  {
   "cell_type": "code",
   "execution_count": null,
   "metadata": {},
   "outputs": [],
   "source": []
  },
  {
   "cell_type": "code",
   "execution_count": null,
   "metadata": {},
   "outputs": [],
   "source": []
  },
  {
   "cell_type": "code",
   "execution_count": null,
   "metadata": {},
   "outputs": [],
   "source": []
  },
  {
   "cell_type": "code",
   "execution_count": null,
   "metadata": {},
   "outputs": [],
   "source": []
  }
 ],
 "metadata": {
  "kernelspec": {
   "display_name": "Python 3",
   "language": "python",
   "name": "python3"
  },
  "language_info": {
   "codemirror_mode": {
    "name": "ipython",
    "version": 3
   },
   "file_extension": ".py",
   "mimetype": "text/x-python",
   "name": "python",
   "nbconvert_exporter": "python",
   "pygments_lexer": "ipython3",
   "version": "3.7.4"
  }
 },
 "nbformat": 4,
 "nbformat_minor": 2
}
